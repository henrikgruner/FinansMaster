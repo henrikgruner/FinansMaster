{
 "cells": [
  {
   "cell_type": "code",
   "execution_count": 6,
   "metadata": {},
   "outputs": [
    {
     "name": "stdout",
     "output_type": "stream",
     "text": [
      "[*********************100%***********************]  1 of 1 completed\n",
      "['Date', 'returns', 'returns_rf', 'cumulative_rf', 'P', 'D', 'simple_return', 'dividend_return', 'cum_return', 'cum_return_with_dividends', 'market_return', 'volatility_market', 'returns_with_dividends']\n",
      "0       0.038020\n",
      "1       0.036647\n",
      "2       0.036135\n",
      "3       0.035640\n",
      "4       0.035608\n",
      "          ...   \n",
      "1127    0.042633\n",
      "1128    0.043200\n",
      "1129    0.044263\n",
      "1130    0.044677\n",
      "1131    0.046197\n",
      "Name: volatility_market, Length: 1132, dtype: float64\n"
     ]
    }
   ],
   "source": [
    "import datetime\n",
    "import numpy as np\n",
    "import pandas as pd\n",
    "from scipy.optimize import minimize\n",
    "from datasets import get_datasets, get_shiller\n",
    "import matplotlib.pyplot as plt\n",
    "import random\n",
    "\n",
    "time_horizon = 40\n",
    "\n",
    "data = get_datasets()\n",
    "data['returns_with_dividends'] = data['simple_return'] + data['dividend_return']\n",
    "\n",
    "print(data.columns.values.tolist())\n"
   ]
  },
  {
   "cell_type": "code",
   "execution_count": 28,
   "metadata": {},
   "outputs": [
    {
     "name": "stdout",
     "output_type": "stream",
     "text": [
      "            Asset  Cumulative Return  Annualized Return  Standard Deviation\n",
      "0  With dividends        7564.246241           0.099305            0.004989\n",
      "1         Without         233.918996           0.059579            0.155238\n",
      "2       Risk-Free          21.852900           0.033727            0.008807\n",
      "0.013993861454261368\n"
     ]
    }
   ],
   "source": [
    "cumulative_return_risky = data['cum_return_with_dividends'].iloc[-1]\n",
    "cumulative_return = data['cum_return'].iloc[-1]\n",
    "cumulative_return_rf = data['cumulative_rf'].iloc[-1]\n",
    "\n",
    "annualized_return_risky = (1 + cumulative_return_risky) ** (12 / len(data)) - 1\n",
    "annualized_return = (1 + cumulative_return) ** (12 / len(data)) - 1\n",
    "annualized_return_rf = (1 + cumulative_return_rf) ** (12 / len(data)) - 1\n",
    "\n",
    "std_dev_risky = np.std(data['dividend_return']) * np.sqrt(12)\n",
    "std_dev_rf = np.std(data['returns_rf']) * np.sqrt(12)\n",
    "std_dev = np.std(data['simple_return']) * np.sqrt(12)\n",
    "comparison_table = pd.DataFrame({\n",
    "    'Asset': ['With dividends','Without' ,'Risk-Free'],\n",
    "\n",
    "    'Cumulative Return': [cumulative_return_risky,cumulative_return, cumulative_return_rf],\n",
    "    'Annualized Return': [annualized_return_risky,annualized_return, annualized_return_rf],\n",
    "    'Standard Deviation': [std_dev_risky, std_dev, std_dev_rf]\n",
    "})\n",
    "print(comparison_table)\n",
    "print(data['dividend_return'].std() * np.sqrt(1132/12))\n",
    "print(data['simple_return'].std() * np.sqrt(1132/12))"
   ]
  },
  {
   "cell_type": "markdown",
   "metadata": {},
   "source": []
  },
  {
   "cell_type": "code",
   "execution_count": 29,
   "metadata": {},
   "outputs": [
    {
     "name": "stdout",
     "output_type": "stream",
     "text": [
      "Descriptive Statistics for dividend_return:\n",
      "count    113200.00\n",
      "mean          0.86\n",
      "std           4.49\n",
      "min         -26.19\n",
      "25%          -1.08\n",
      "50%           1.22\n",
      "75%           3.21\n",
      "max          51.35\n",
      "Name: returns_with_dividends, dtype: float64\n",
      "Descriptive Statistics for returns_rf:\n",
      "count    113200.00\n",
      "mean          0.27\n",
      "std           0.25\n",
      "min          -0.07\n",
      "25%           0.03\n",
      "50%           0.21\n",
      "75%           0.42\n",
      "max           1.35\n",
      "Name: returns_rf, dtype: float64\n",
      "Descriptive Statistics for simple returns:\n",
      "count    113200.00\n",
      "mean          0.56\n",
      "std           4.48\n",
      "min         -26.47\n",
      "25%          -1.34\n",
      "50%           0.95\n",
      "75%           2.93\n",
      "max          50.30\n",
      "Name: simple_return, dtype: float64\n",
      "Date of Maximum Value for dividend_return: 1932-08-31 00:00:00\n",
      "Date of Minimum Value for dividend_return: 1929-11-30 00:00:00\n",
      "Date of Maximum Value for simple return: 1932-08-31 00:00:00\n",
      "Date of Minimum Value for simple return: 1929-11-30 00:00:00\n",
      "Date of Maximum Value for returns_rf: 1981-06-30 00:00:00\n",
      "Date of Minimum Value for returns_rf: 1938-11-30 00:00:00\n"
     ]
    }
   ],
   "source": [
    "\n",
    "# Descriptive statistics for dividend_return column\n",
    "\n",
    "dividend_return_stats = data['returns_with_dividends'].describe()\n",
    "print(\"Descriptive Statistics for dividend_return:\")\n",
    "print(round(dividend_return_stats*100,2))\n",
    "\n",
    "# Descriptive statistics for returns_rf column\n",
    "returns_rf_stats = data['returns_rf'].describe()\n",
    "print(\"Descriptive Statistics for returns_rf:\")\n",
    "print(round(returns_rf_stats*100,2))\n",
    "\n",
    "returns_stats = data['simple_return'].describe()\n",
    "print(\"Descriptive Statistics for simple returns:\")\n",
    "print(round(returns_stats*100,2))\n",
    "\n",
    "# Find the date of the maximum and minimum values for dividend_return\n",
    "max_date_dividend_return = data['Date'][data['returns_with_dividends'].idxmax()]\n",
    "min_date_dividend_return = data['Date'][data['returns_with_dividends'].idxmin()]\n",
    "\n",
    "max_date_return = data['Date'][data['simple_return'].idxmax()]\n",
    "min_date_return = data['Date'][data['simple_return'].idxmin()]\n",
    "# Find the date of the maximum and minimum values for returns_rf\n",
    "max_date_returns_rf = data['Date'][data['returns_rf'].idxmax()]\n",
    "min_date_returns_rf = data['Date'][data['returns_rf'].idxmin()]\n",
    "\n",
    "print(\"Date of Maximum Value for dividend_return:\", max_date_dividend_return)\n",
    "print(\"Date of Minimum Value for dividend_return:\", min_date_dividend_return)\n",
    "print(\"Date of Maximum Value for simple return:\", max_date_return)\n",
    "print(\"Date of Minimum Value for simple return:\", min_date_return)\n",
    "print(\"Date of Maximum Value for returns_rf:\", max_date_returns_rf)\n",
    "print(\"Date of Minimum Value for returns_rf:\", min_date_returns_rf)\n"
   ]
  }
 ],
 "metadata": {
  "kernelspec": {
   "display_name": "Python 3",
   "language": "python",
   "name": "python3"
  },
  "language_info": {
   "codemirror_mode": {
    "name": "ipython",
    "version": 3
   },
   "file_extension": ".py",
   "mimetype": "text/x-python",
   "name": "python",
   "nbconvert_exporter": "python",
   "pygments_lexer": "ipython3",
   "version": "3.10.0"
  },
  "orig_nbformat": 4
 },
 "nbformat": 4,
 "nbformat_minor": 2
}
